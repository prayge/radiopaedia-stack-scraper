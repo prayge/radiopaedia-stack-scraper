{
 "cells": [
  {
   "cell_type": "code",
   "execution_count": null,
   "metadata": {},
   "outputs": [],
   "source": [
    "!pip install --user -r requirements.txt"
   ]
  },
  {
   "cell_type": "code",
   "execution_count": null,
   "metadata": {},
   "outputs": [],
   "source": [
    "from bs4 import BeautifulSoup as soup\n",
    "import requests"
   ]
  },
  {
   "cell_type": "code",
   "execution_count": 42,
   "metadata": {},
   "outputs": [],
   "source": [
    "def get_doc (url):\n",
    "    result = requests.get(url)\n",
    "    doc = soup(result.text, \"html.parser\")\n",
    "\n",
    "    return doc"
   ]
  },
  {
   "cell_type": "code",
   "execution_count": 91,
   "metadata": {},
   "outputs": [
    {
     "name": "stdout",
     "output_type": "stream",
     "text": [
      "[]\n"
     ]
    }
   ],
   "source": [
    "url = \"https://radiopaedia.org/cases/normal-brain-mri-6\"\n",
    "url2 = \"https://radiopaedia.org/cases/retrosternal-multinodular-goitre-cervicothoracic-sign?lang=gb\"\n",
    "\n",
    "doc = get_doc(url)\n",
    "case = doc.find_all(\"div\", {\"class\": \"case-section\"})\n",
    "patient_pres = doc.find_all(\"div\", {\"id\": \"case-patient-presentation\"})\n",
    "patient_data = doc.find_all(\"div\", {\"id\": \"case-patient-data\"})\n",
    "patient_study = doc.find_all(\"div\", {\"class\": \"well case-section case-study\"})\n",
    "patient_conc = doc.find_all(\"div\", {\"id\": \"case-conclusion\"})\n",
    "stack = doc.find_all(\"div\", {\"stack\"})\n",
    "stack_parent = stack[0].parent\n",
    "root_img = doc.find_all(\"div\", {\"class\" : \"-workflow-control-wrapper\"})\n",
    "image = stack_parent.find_all(\"img\")\n",
    "\n",
    "print(root_img)\n",
    "\n"
   ]
  }
 ],
 "metadata": {
  "kernelspec": {
   "display_name": "Python 3.9.7 ('base')",
   "language": "python",
   "name": "python3"
  },
  "language_info": {
   "codemirror_mode": {
    "name": "ipython",
    "version": 3
   },
   "file_extension": ".py",
   "mimetype": "text/x-python",
   "name": "python",
   "nbconvert_exporter": "python",
   "pygments_lexer": "ipython3",
   "version": "3.9.7"
  },
  "orig_nbformat": 4,
  "vscode": {
   "interpreter": {
    "hash": "ad2bdc8ecc057115af97d19610ffacc2b4e99fae6737bb82f5d7fb13d2f2c186"
   }
  }
 },
 "nbformat": 4,
 "nbformat_minor": 2
}
