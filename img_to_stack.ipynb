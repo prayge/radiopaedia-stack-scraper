{
 "cells": [
  {
   "cell_type": "code",
   "execution_count": 34,
   "metadata": {},
   "outputs": [
    {
     "name": "stdout",
     "output_type": "stream",
     "text": [
      "(630, 630)\n",
      "(630, 630)\n",
      "(630, 630)\n",
      "(630, 630)\n",
      "(630, 630)\n",
      "(630, 630)\n",
      "(630, 630)\n",
      "(630, 630)\n",
      "(630, 630)\n",
      "(630, 630)\n",
      "(630, 630)\n",
      "(630, 630)\n",
      "(630, 630)\n",
      "(630, 630)\n",
      "(630, 630)\n",
      "(630, 630)\n",
      "(630, 630)\n",
      "(630, 630)\n",
      "(630, 630)\n",
      "(630, 630)\n",
      "(630, 630)\n",
      "(630, 630)\n"
     ]
    },
    {
     "data": {
      "text/plain": [
       "(22, 630, 630)"
      ]
     },
     "execution_count": 34,
     "metadata": {},
     "output_type": "execute_result"
    }
   ],
   "source": [
    "import os\n",
    "import numpy as np\n",
    "#from IPython.display import Image, display\n",
    "from PIL import Image\n",
    "search_dir = \"D://proj//\"\n",
    "os.chdir(search_dir)\n",
    "files = filter(os.path.isfile, os.listdir(search_dir))\n",
    "files = [os.path.join(search_dir, f) for f in files] # add path to each file\n",
    "files.sort(key=lambda x: os.path.getmtime(x))\n",
    "\n",
    "# for i, img in enumerate(files):\n",
    "#     image = Image(img)\n",
    "#     print(type(image))\n",
    "#     display(image)\n",
    "\n",
    "stk = []\n",
    "for img in files:\n",
    "    im = Image.open(img)\n",
    "    arr = np.array(im)\n",
    "    stk.append(arr)\n",
    "    print(arr.shape)\n",
    "\n",
    "stack = np.stack(stk, axis=0).astype(np.float32)\n",
    "\n",
    "\n",
    "stack.shape\n",
    "\n"
   ]
  }
 ],
 "metadata": {
  "kernelspec": {
   "display_name": "Python 3.9.12 ('cdnn')",
   "language": "python",
   "name": "python3"
  },
  "language_info": {
   "codemirror_mode": {
    "name": "ipython",
    "version": 3
   },
   "file_extension": ".py",
   "mimetype": "text/x-python",
   "name": "python",
   "nbconvert_exporter": "python",
   "pygments_lexer": "ipython3",
   "version": "3.9.12"
  },
  "orig_nbformat": 4,
  "vscode": {
   "interpreter": {
    "hash": "6a57817e21ccdb11dbbd137a893031cffe177059cb194ad2f5ed401c62986600"
   }
  }
 },
 "nbformat": 4,
 "nbformat_minor": 2
}
